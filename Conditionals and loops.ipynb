{
 "cells": [
  {
   "cell_type": "code",
   "execution_count": 1,
   "metadata": {
    "collapsed": false
   },
   "outputs": [
    {
     "data": {
      "text/plain": [
       "bool"
      ]
     },
     "execution_count": 1,
     "metadata": {},
     "output_type": "execute_result"
    }
   ],
   "source": [
    "# boolean types\n",
    "a = True\n",
    "b = False\n",
    "type(a)"
   ]
  },
  {
   "cell_type": "code",
   "execution_count": 2,
   "metadata": {
    "collapsed": false
   },
   "outputs": [
    {
     "data": {
      "text/plain": [
       "False"
      ]
     },
     "execution_count": 2,
     "metadata": {},
     "output_type": "execute_result"
    }
   ],
   "source": [
    "# Relational operatora,  can use >,>=,<,<=,==,!=\n",
    "x = 10\n",
    "y = 20\n",
    "x > y "
   ]
  },
  {
   "cell_type": "code",
   "execution_count": 3,
   "metadata": {
    "collapsed": false
   },
   "outputs": [
    {
     "data": {
      "text/plain": [
       "True"
      ]
     },
     "execution_count": 3,
     "metadata": {},
     "output_type": "execute_result"
    }
   ],
   "source": [
    "# Logical operators\n",
    "x = 10\n",
    "y = 20\n",
    "z = 30\n",
    "x > y and x > z # similar to && in java\n",
    "x < y and x < z"
   ]
  },
  {
   "cell_type": "code",
   "execution_count": 4,
   "metadata": {
    "collapsed": false
   },
   "outputs": [
    {
     "name": "stdout",
     "output_type": "stream",
     "text": [
      "20\n"
     ]
    }
   ],
   "source": [
    "# Conditionals\n",
    "# if else\n",
    "if x > y :\n",
    "    print(x)\n",
    "else :\n",
    "    print(y)"
   ]
  },
  {
   "cell_type": "code",
   "execution_count": 5,
   "metadata": {
    "collapsed": false
   },
   "outputs": [
    {
     "name": "stdout",
     "output_type": "stream",
     "text": [
      "B\n"
     ]
    }
   ],
   "source": [
    " if (10 < 0) and (0 < -10):\n",
    "     print(\"A\")\n",
    " elif (10 > 0) or False:\n",
    "     print(\"B\")\n",
    " else:\n",
    "    print(\"C\")"
   ]
  },
  {
   "cell_type": "code",
   "execution_count": 7,
   "metadata": {
    "collapsed": false
   },
   "outputs": [
    {
     "name": "stdout",
     "output_type": "stream",
     "text": [
      "B\n"
     ]
    }
   ],
   "source": [
    "if True or True:\n",
    "    if False and True or False:\n",
    "        print('A')\n",
    "    elif False and False or True and True:\n",
    "       print('B')\n",
    "    else:\n",
    "      print('C')\n",
    "else:\n",
    "     print('D')"
   ]
  },
  {
   "cell_type": "code",
   "execution_count": 9,
   "metadata": {
    "collapsed": false
   },
   "outputs": [
    {
     "name": "stdout",
     "output_type": "stream",
     "text": [
      "5\n",
      "1 2 3 4 5 "
     ]
    }
   ],
   "source": [
    "# loops\n",
    "# while loops\n",
    "n = int(input()) # user input\n",
    "i = 1;\n",
    "while i <= n :\n",
    "    print(i, end = \" \")\n",
    "    i = i + 1"
   ]
  },
  {
   "cell_type": "code",
   "execution_count": 13,
   "metadata": {
    "collapsed": false
   },
   "outputs": [
    {
     "name": "stdout",
     "output_type": "stream",
     "text": [
      "1 2 3 4 5 6 7 8 9 \n",
      "0 1 2 3 4 5 6 7 8 9 10 "
     ]
    }
   ],
   "source": [
    "# for loop, range(a,b)-> goes from a to b-1\n",
    "for i in range(1,10):\n",
    "    print(i,end = \" \")\n",
    "print()  \n",
    "# can also give range with out starting value as it always starts from 0\n",
    "\n",
    "for i in range (11):\n",
    "    print(i,end=\" \")\n",
    "print()\n",
    "# in range we have range(start,end,step): by default start is 0 and step is 1\n"
   ]
  },
  {
   "cell_type": "code",
   "execution_count": 17,
   "metadata": {
    "collapsed": false
   },
   "outputs": [
    {
     "name": "stdout",
     "output_type": "stream",
     "text": [
      "100\n",
      "not prime\n"
     ]
    }
   ],
   "source": [
    "# check for prime numbers\n",
    "n = int(input())\n",
    "flag = True\n",
    "for i in range (2,n):\n",
    "    if n % i == 0 :\n",
    "        flag = False\n",
    "        break\n",
    "if flag:\n",
    "    print(\"prime\")\n",
    "else:\n",
    "    print(\"not prime\")"
   ]
  },
  {
   "cell_type": "code",
   "execution_count": 20,
   "metadata": {
    "collapsed": false
   },
   "outputs": [
    {
     "name": "stdout",
     "output_type": "stream",
     "text": [
      "a n m o l \n",
      "1 2 3 "
     ]
    }
   ],
   "source": [
    "# fast iteration\n",
    "s = \"anmol\"\n",
    "for c in s:# printing character by character\n",
    "    print(c,end = \" \")\n",
    "print()\n",
    "t = (1,2,3)\n",
    "for a in t:\n",
    "    print(a,end=\" \")"
   ]
  },
  {
   "cell_type": "code",
   "execution_count": 21,
   "metadata": {
    "collapsed": false
   },
   "outputs": [
    {
     "name": "stdout",
     "output_type": "stream",
     "text": [
      "0 1 2 "
     ]
    }
   ],
   "source": [
    "i = 0\n",
    "while i < 3:\n",
    "    print(i, end=\" \")\n",
    "    i += 1"
   ]
  },
  {
   "cell_type": "code",
   "execution_count": 24,
   "metadata": {
    "collapsed": false
   },
   "outputs": [
    {
     "name": "stdout",
     "output_type": "stream",
     "text": [
      "3 4 5 "
     ]
    }
   ],
   "source": [
    "a = 3 # why 3 4 5 and not infinite\n",
    "for i in range(a):\n",
    "    print(a, end=\" \")\n",
    "    a +=1"
   ]
  },
  {
   "cell_type": "code",
   "execution_count": 26,
   "metadata": {
    "collapsed": false
   },
   "outputs": [
    {
     "name": "stdout",
     "output_type": "stream",
     "text": [
      "a b c d "
     ]
    }
   ],
   "source": [
    "x = 'abcd'\n",
    "for i in x:\n",
    "     print(i, end = \" \")\n",
    "     x.upper()\n",
    "# why the output is abcd is Changes do not happen in-place, rather a new instance of the string is returned."
   ]
  },
  {
   "cell_type": "code",
   "execution_count": 28,
   "metadata": {
    "collapsed": false
   },
   "outputs": [
    {
     "name": "stdout",
     "output_type": "stream",
     "text": [
      "abcd\n",
      "a\n",
      "a\n",
      "a\n"
     ]
    }
   ],
   "source": [
    "x = 'abcd'\n",
    "for i in range(len(x)):\n",
    "   print(x)\n",
    "   x = 'a'"
   ]
  },
  {
   "cell_type": "code",
   "execution_count": 31,
   "metadata": {
    "collapsed": false
   },
   "outputs": [
    {
     "name": "stdout",
     "output_type": "stream",
     "text": [
      "5\n",
      "1        1\n",
      "12      21\n",
      "123    321\n",
      "1234  4321\n",
      "1234554321\n"
     ]
    }
   ],
   "source": [
    "n = int(input())\n",
    "for i in range (1,n+1):\n",
    "    j = 1\n",
    "    while j <= i :\n",
    "        print(j,end=\"\")\n",
    "        j = j + 1;\n",
    "    j = i * 2\n",
    "    \n",
    "    while j < n *2 :\n",
    "        print(\" \",end=\"\")\n",
    "        j = j + 1\n",
    "    j = i\n",
    "    while j >= 1 :\n",
    "        print(j,end=\"\")\n",
    "        j = j -1\n",
    "    print()"
   ]
  },
  {
   "cell_type": "code",
   "execution_count": 3,
   "metadata": {
    "collapsed": false
   },
   "outputs": [
    {
     "name": "stdout",
     "output_type": "stream",
     "text": [
      "olleh lomna\n"
     ]
    }
   ],
   "source": [
    "# reverse every word in a string\n",
    "s = \"hello anmol\"\n",
    "array = s.split()\n",
    "new_word = \"\"\n",
    "for word in array:\n",
    "    new_word += word[::-1] + \" \"# good way to reverse\n",
    "new_word = new_word[:-1]\n",
    "print(new_word)    "
   ]
  },
  {
   "cell_type": "code",
   "execution_count": 5,
   "metadata": {
    "collapsed": false
   },
   "outputs": [
    {
     "data": {
      "text/plain": [
       "5"
      ]
     },
     "execution_count": 5,
     "metadata": {},
     "output_type": "execute_result"
    }
   ],
   "source": [
    "# function\n",
    "def sum(a,b):\n",
    "    return a+b\n",
    "sum(2,3)"
   ]
  },
  {
   "cell_type": "code",
   "execution_count": 6,
   "metadata": {
    "collapsed": false
   },
   "outputs": [
    {
     "name": "stdout",
     "output_type": "stream",
     "text": [
      "10000\n",
      "144\n"
     ]
    }
   ],
   "source": [
    "# default arguments in a function, here y is by default 2\n",
    "def pow(x,y=2):\n",
    "    return x**y\n",
    "print(pow(10,4))\n",
    "print(pow(12))"
   ]
  },
  {
   "cell_type": "code",
   "execution_count": 8,
   "metadata": {
    "collapsed": false
   },
   "outputs": [
    {
     "name": "stdout",
     "output_type": "stream",
     "text": [
      "<class 'tuple'>\n",
      "(13, 14)\n"
     ]
    },
    {
     "data": {
      "text/plain": [
       "49"
      ]
     },
     "execution_count": 8,
     "metadata": {},
     "output_type": "execute_result"
    }
   ],
   "source": [
    "# variable number of inputs to a function\n",
    "def sum_variable(a,b,*more):\n",
    "    print(type(more))\n",
    "    print(more)\n",
    "    sum = a + b\n",
    "    for i in more:\n",
    "        sum += i\n",
    "    return sum\n",
    "sum_variable(10,12,13,14)"
   ]
  },
  {
   "cell_type": "code",
   "execution_count": 11,
   "metadata": {
    "collapsed": false
   },
   "outputs": [
    {
     "name": "stdout",
     "output_type": "stream",
     "text": [
      "22\n",
      "-2\n",
      "120\n",
      "22\n"
     ]
    }
   ],
   "source": [
    "# more than one return value\n",
    "def dummy(a,b):\n",
    "    return a+b, a-b, a*b\n",
    "sum1,diff1,prod1=dummy(10,12)# returns a tupple\n",
    "print(sum1)\n",
    "print(diff1)\n",
    "print(prod1)\n",
    "sum2 = dummy(10,12)[0] # if we only want sum, because its 0th entry of tupple\n",
    "print(sum2)"
   ]
  },
  {
   "cell_type": "code",
   "execution_count": 13,
   "metadata": {
    "collapsed": false
   },
   "outputs": [
    {
     "name": "stdout",
     "output_type": "stream",
     "text": [
      "4  is maximum\n"
     ]
    }
   ],
   "source": [
    "def printMax(a, b):\n",
    "    if a > b:\n",
    "       print(a, ' is maximum')\n",
    "    elif a == b:\n",
    "       print(a,  'is equal to', b)\n",
    "    else:\n",
    "      print(b, ' is maximum')\n",
    "printMax(3, 4)"
   ]
  },
  {
   "cell_type": "code",
   "execution_count": 14,
   "metadata": {
    "collapsed": false
   },
   "outputs": [
    {
     "name": "stdout",
     "output_type": "stream",
     "text": [
      "50\n"
     ]
    }
   ],
   "source": [
    "x = 50\n",
    "def change(x):\n",
    "     x = 2\n",
    "change(x)\n",
    "print(x)"
   ]
  },
  {
   "cell_type": "code",
   "execution_count": 15,
   "metadata": {
    "collapsed": false
   },
   "outputs": [
    {
     "name": "stdout",
     "output_type": "stream",
     "text": [
      "9 27\n"
     ]
    }
   ],
   "source": [
    "def power(x, y=2):\n",
    "      ans = 1\n",
    "      for i in range(y):\n",
    "          ans = ans * x\n",
    "      return ans\n",
    "print(power(3), end=\" \")\n",
    "print(power(3,3))\n"
   ]
  },
  {
   "cell_type": "code",
   "execution_count": 23,
   "metadata": {
    "collapsed": false
   },
   "outputs": [
    {
     "data": {
      "text/plain": [
       "10"
      ]
     },
     "execution_count": 23,
     "metadata": {},
     "output_type": "execute_result"
    }
   ],
   "source": [
    "def calculateSum(n) :\n",
    "    if (n <= 0) :\n",
    "        return 0\n",
    "  \n",
    "    fibo =[0] * (n+1)\n",
    "    fibo[1] = 1\n",
    "  \n",
    "    # Initialize result\n",
    "    sum = 0\n",
    "  \n",
    "    # Add remaining terms\n",
    "    for i in range(2,n+1) :\n",
    "        fibo[i] = fibo[i-1] + fibo[i-2]\n",
    "        if fibo[i]%2==0:\n",
    "            sum += fibo[i]    \n",
    "    return sum\n",
    "calculateSum(8)"
   ]
  },
  {
   "cell_type": "code",
   "execution_count": 30,
   "metadata": {
    "collapsed": false
   },
   "outputs": [
    {
     "data": {
      "text/plain": [
       "10"
      ]
     },
     "execution_count": 30,
     "metadata": {},
     "output_type": "execute_result"
    }
   ],
   "source": [
    "\n",
    "def calculateSum(num) :\n",
    "    if (num < 2) :\n",
    "        return 0\n",
    " \n",
    "    # Initialize first two even prime numbers\n",
    "    # and their sum\n",
    "    ef1 = 0\n",
    "    ef2 = 2\n",
    "    sm= ef1 + ef2\n",
    "     \n",
    "    # calculating sum of even Fibonacci value\n",
    "    while (ef2 <= num) :\n",
    " \n",
    "        # get next even value of Fibonacci \n",
    "        # sequence\n",
    "        ef3 = 4 * ef2 + ef1\n",
    " \n",
    "        # If we go beyond limit, we break loop\n",
    "        if (ef3 > num) :\n",
    "            break\n",
    " \n",
    "        # Move to next even number and update\n",
    "        # sum\n",
    "        ef1 = ef2\n",
    "        ef2 = ef3\n",
    "        sm = sm + ef2\n",
    "     \n",
    "    return sm\n",
    "calculateSum(8)"
   ]
  },
  {
   "cell_type": "code",
   "execution_count": 43,
   "metadata": {
    "collapsed": false
   },
   "outputs": [
    {
     "name": "stdout",
     "output_type": "stream",
     "text": [
      "1\n",
      "32\n",
      "456\n",
      "10987\n",
      "1112131415\n"
     ]
    }
   ],
   "source": [
    "def printPattern(rows):\n",
    "    j=0\n",
    "    k=0\n",
    "    for i in range(1,rows+1):\n",
    "        if i % 2 !=0 :\n",
    "            j = k + 1\n",
    "            while j < k + i:\n",
    "                print(j,end=\"\")\n",
    "                j = j + 1\n",
    "            print(j)\n",
    "            j = j + 1\n",
    "            k = j\n",
    "        else :\n",
    "            k = k + i -1\n",
    "            j = k\n",
    "            while j > k - i + 1:\n",
    "                print(j,end=\"\")\n",
    "                j = j -1\n",
    "            print(j)\n",
    "    return\n",
    "printPattern(5)"
   ]
  },
  {
   "cell_type": "code",
   "execution_count": 1,
   "metadata": {
    "collapsed": false
   },
   "outputs": [
    {
     "name": "stdout",
     "output_type": "stream",
     "text": [
      "111"
     ]
    }
   ],
   "source": [
    "def decimalToBinary(n):\n",
    " \n",
    "    if n > 1: \n",
    "        decimalToBinary(n//2) \n",
    " \n",
    "    print(n%2,end=\"\")\n",
    "decimalToBinary(7)"
   ]
  },
  {
   "cell_type": "code",
   "execution_count": 1,
   "metadata": {
    "collapsed": false
   },
   "outputs": [
    {
     "name": "stdout",
     "output_type": "stream",
     "text": [
      "4\n",
      "2\n",
      "3\n"
     ]
    }
   ],
   "source": [
    "import math\n",
    "def is_prime(n):\n",
    "    for num in range(2,n):\n",
    "        prime = True\n",
    "        for i in range(2,num):\n",
    "            if (num%i==0):\n",
    "                prime = False\n",
    "        if prime:\n",
    "           print(num)\n",
    "\n",
    "is_prime(int(input()))\n",
    "    "
   ]
  },
  {
   "cell_type": "code",
   "execution_count": 3,
   "metadata": {
    "collapsed": false
   },
   "outputs": [
    {
     "name": "stdout",
     "output_type": "stream",
     "text": [
      "2 2\n",
      "1 1 1 1\n"
     ]
    },
    {
     "ename": "IndexError",
     "evalue": "list index out of range",
     "output_type": "error",
     "traceback": [
      "\u001b[0;31m---------------------------------------------------------------------------\u001b[0m",
      "\u001b[0;31mIndexError\u001b[0m                                Traceback (most recent call last)",
      "\u001b[0;32m<ipython-input-3-922f2d2118c1>\u001b[0m in \u001b[0;36m<module>\u001b[0;34m()\u001b[0m\n\u001b[1;32m     10\u001b[0m     \u001b[0minput\u001b[0m\u001b[0;34m.\u001b[0m\u001b[0mappend\u001b[0m\u001b[0;34m(\u001b[0m\u001b[0;34m[\u001b[0m\u001b[0;34m]\u001b[0m\u001b[0;34m)\u001b[0m \u001b[0;31m# will give us empty rows\u001b[0m\u001b[0;34m\u001b[0m\u001b[0m\n\u001b[1;32m     11\u001b[0m     \u001b[0;32mfor\u001b[0m \u001b[0mj\u001b[0m \u001b[0;32min\u001b[0m \u001b[0mrange\u001b[0m\u001b[0;34m(\u001b[0m\u001b[0mcol\u001b[0m\u001b[0;34m)\u001b[0m\u001b[0;34m:\u001b[0m\u001b[0;34m\u001b[0m\u001b[0m\n\u001b[0;32m---> 12\u001b[0;31m         \u001b[0minput\u001b[0m\u001b[0;34m[\u001b[0m\u001b[0mi\u001b[0m\u001b[0;34m]\u001b[0m\u001b[0;34m.\u001b[0m\u001b[0mappend\u001b[0m\u001b[0;34m(\u001b[0m\u001b[0ml\u001b[0m\u001b[0;34m[\u001b[0m\u001b[0mi\u001b[0m\u001b[0;34m*\u001b[0m\u001b[0mcol\u001b[0m \u001b[0;34m+\u001b[0m\u001b[0mj\u001b[0m\u001b[0;34m]\u001b[0m\u001b[0;34m)\u001b[0m\u001b[0;34m\u001b[0m\u001b[0m\n\u001b[0m\u001b[1;32m     13\u001b[0m \u001b[0;34m\u001b[0m\u001b[0m\n\u001b[1;32m     14\u001b[0m \u001b[0mprint\u001b[0m\u001b[0;34m(\u001b[0m\u001b[0minput\u001b[0m\u001b[0;34m)\u001b[0m\u001b[0;34m\u001b[0m\u001b[0m\n",
      "\u001b[0;31mIndexError\u001b[0m: list index out of range"
     ]
    }
   ],
   "source": [
    "str = input().strip().split(\" \")\n",
    "rows = int(str[0])\n",
    "cols = int(str[1])\n",
    "# taking in elements\n",
    "l = [int(i) for i in input().strip().split(\" \")] #with this the output is a 1d array of 1,2,3,4,5,6,7 but we want it in row*col form\n",
    "\n",
    "# one way\n",
    "input = []\n",
    "for i in range(row):\n",
    "    input.append([]) # will give us empty rows\n",
    "    for j in range(col):\n",
    "        input[i].append(l[i*col +j])\n",
    "\n",
    "print(input)\n",
    "rowNum, colNum = 0\n",
    "maxRowSum, maxColSum = 0\n",
    "\n",
    "for i in range(rows):\n",
    "    sum = 0\n",
    "    for j in range(cols):\n",
    "        sum += input[i][j]\n",
    "    \n",
    "    if(sum>maxRowSum):\n",
    "        maxRowSum = sum\n",
    "        rowNum = i\n",
    "\n",
    "for j in range(cols):\n",
    "    sum = 0\n",
    "    for i in range(rows):\n",
    "        sum += input[i][j]\n",
    "    if(sum>maxColSum):\n",
    "        maxColSum = sum\n",
    "        colNum = j\n",
    "\n",
    "if maxRowSum >= maxColSum:\n",
    "    print(\"row\",end=\" \")\n",
    "    print(rowNum,end=\" \")\n",
    "    print(maxRowSum)\n",
    "else:\n",
    "    print(\"column\",end=\" \")\n",
    "    print(colNum,end=\" \")\n",
    "    print(maxColSum)"
   ]
  },
  {
   "cell_type": "code",
   "execution_count": null,
   "metadata": {
    "collapsed": true
   },
   "outputs": [],
   "source": []
  }
 ],
 "metadata": {
  "anaconda-cloud": {},
  "kernelspec": {
   "display_name": "Python [conda root]",
   "language": "python",
   "name": "conda-root-py"
  },
  "language_info": {
   "codemirror_mode": {
    "name": "ipython",
    "version": 3
   },
   "file_extension": ".py",
   "mimetype": "text/x-python",
   "name": "python",
   "nbconvert_exporter": "python",
   "pygments_lexer": "ipython3",
   "version": "3.5.5"
  }
 },
 "nbformat": 4,
 "nbformat_minor": 1
}
