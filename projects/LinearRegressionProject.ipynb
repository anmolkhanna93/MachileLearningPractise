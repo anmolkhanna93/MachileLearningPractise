{
 "cells": [
  {
   "cell_type": "code",
   "execution_count": 1,
   "metadata": {
    "collapsed": true
   },
   "outputs": [],
   "source": [
    "import numpy as np"
   ]
  },
  {
   "cell_type": "code",
   "execution_count": 13,
   "metadata": {
    "collapsed": true
   },
   "outputs": [],
   "source": [
    "# Reading training and testing data\n",
    "train_data = np.loadtxt('Datasets/training_diabetes_x_y_train.csv',delimiter=\",\")\n",
    "test_data = np.loadtxt('Datasets/test_diabetes_x_test.csv',delimiter=\",\")"
   ]
  },
  {
   "cell_type": "code",
   "execution_count": 5,
   "metadata": {
    "collapsed": false
   },
   "outputs": [
    {
     "data": {
      "text/plain": [
       "array([[ -4.91050164e-02,  -4.46416365e-02,   1.60854917e-01, ...,\n",
       "          2.80165065e-02,   1.13486232e-02,   3.46000000e+02],\n",
       "       [ -7.09002471e-02,   5.06801187e-02,  -8.91974838e-02, ...,\n",
       "         -1.29079423e-02,  -5.49250874e-02,   1.04000000e+02],\n",
       "       [  1.75052192e-03,  -4.46416365e-02,  -7.08746786e-02, ...,\n",
       "         -2.25121719e-02,   7.20651633e-03,   4.90000000e+01],\n",
       "       ..., \n",
       "       [  2.35457526e-02,  -4.46416365e-02,   7.03187031e-02, ...,\n",
       "         -1.91970476e-02,  -9.36191133e-03,   2.88000000e+02],\n",
       "       [  1.62806757e-02,   5.06801187e-02,   7.24743273e-02, ...,\n",
       "         -2.36445576e-02,   6.10539062e-02,   1.31000000e+02],\n",
       "       [ -9.14709343e-03,   5.06801187e-02,  -3.09956318e-02, ...,\n",
       "          6.20931562e-03,   2.79170509e-02,   4.20000000e+01]])"
      ]
     },
     "execution_count": 5,
     "metadata": {},
     "output_type": "execute_result"
    }
   ],
   "source": [
    "train_data"
   ]
  },
  {
   "cell_type": "code",
   "execution_count": 6,
   "metadata": {
    "collapsed": false
   },
   "outputs": [
    {
     "data": {
      "text/plain": [
       "(331, 11)"
      ]
     },
     "execution_count": 6,
     "metadata": {},
     "output_type": "execute_result"
    }
   ],
   "source": [
    "# shape of training data\n",
    "train_data.shape"
   ]
  },
  {
   "cell_type": "code",
   "execution_count": 11,
   "metadata": {
    "collapsed": false
   },
   "outputs": [
    {
     "name": "stdout",
     "output_type": "stream",
     "text": [
      "(331, 10)\n"
     ]
    }
   ],
   "source": [
    "# Input Parameters\n",
    "x_train = train_data[:,0:10]\n",
    "print(x_train.shape)"
   ]
  },
  {
   "cell_type": "code",
   "execution_count": 12,
   "metadata": {
    "collapsed": false
   },
   "outputs": [
    {
     "name": "stdout",
     "output_type": "stream",
     "text": [
      "(331,)\n"
     ]
    }
   ],
   "source": [
    "# Output\n",
    "y_train = train_data[:,10]\n",
    "print(y_train.shape)"
   ]
  },
  {
   "cell_type": "code",
   "execution_count": 14,
   "metadata": {
    "collapsed": true
   },
   "outputs": [],
   "source": [
    "# Creating Linear Regresion Objcet\n",
    "from sklearn.linear_model import LinearRegression\n",
    "algorithm1 = LinearRegression()"
   ]
  },
  {
   "cell_type": "code",
   "execution_count": 15,
   "metadata": {
    "collapsed": false
   },
   "outputs": [
    {
     "data": {
      "text/plain": [
       "LinearRegression(copy_X=True, fit_intercept=True, n_jobs=1, normalize=False)"
      ]
     },
     "execution_count": 15,
     "metadata": {},
     "output_type": "execute_result"
    }
   ],
   "source": [
    "# Fiting the algorithm\n",
    "algorithm1.fit(x_train,y_train)"
   ]
  },
  {
   "cell_type": "code",
   "execution_count": 17,
   "metadata": {
    "collapsed": false
   },
   "outputs": [
    {
     "data": {
      "text/plain": [
       "array([  21.73408096, -256.66866675,  569.60940087,  303.63233545,\n",
       "       -833.11088526,  525.74313633,  136.07129167,  140.89458927,\n",
       "        731.44498492,   53.32119133])"
      ]
     },
     "execution_count": 17,
     "metadata": {},
     "output_type": "execute_result"
    }
   ],
   "source": [
    "# slope for eq y = mx + c\n",
    "m = algorithm1.coef_ \n",
    "m"
   ]
  },
  {
   "cell_type": "code",
   "execution_count": 19,
   "metadata": {
    "collapsed": false
   },
   "outputs": [
    {
     "data": {
      "text/plain": [
       "150.702574894566"
      ]
     },
     "execution_count": 19,
     "metadata": {},
     "output_type": "execute_result"
    }
   ],
   "source": [
    "# Intercept for eq y = mx + c\n",
    "c = algorithm1.intercept_\n",
    "c"
   ]
  },
  {
   "cell_type": "code",
   "execution_count": 20,
   "metadata": {
    "collapsed": true
   },
   "outputs": [],
   "source": [
    "# Predicting the output for test data\n",
    "y_predicted = algorithm1.predict(test_data)"
   ]
  },
  {
   "cell_type": "code",
   "execution_count": 21,
   "metadata": {
    "collapsed": false
   },
   "outputs": [
    {
     "data": {
      "text/plain": [
       "array([ 105.52974799,  105.8039198 ,  178.60857225,   79.3828781 ,\n",
       "         52.95868706,   98.87263854,  150.71755448,   34.86515216,\n",
       "        113.13535727,  161.50184038,  135.8615611 ,   94.71592222,\n",
       "        138.48094422,  141.37441723,  158.76862662,  171.65288616,\n",
       "        106.44835654,  103.92659639,   95.38693889,  167.40118092,\n",
       "        166.53426278,  101.53464712,  252.45035972,  147.02258547,\n",
       "        214.78906632,  161.27557106,  210.61315228,   71.78091585,\n",
       "        189.65032431,  206.6134259 ,  219.98643455,  168.80192534,\n",
       "        116.84846127,  178.74399639,   77.03247418,   59.54633214,\n",
       "        111.5673781 ,  156.95186739,  154.59591259,  198.94457493,\n",
       "        115.53884017,  153.46699024,   84.96179518,  113.70337192,\n",
       "        142.14155617,  147.31040378,   82.78072358,   77.89237327,\n",
       "        128.99006192,  261.58712282,  213.31187775,  243.98791257,\n",
       "        167.68132094,  183.69712124,  166.85926884,  202.11440188,\n",
       "        220.39235543,  172.40288024,  176.60897931,  109.04656567,\n",
       "        276.37789836,   90.99941821,  289.37221147,  119.56253351,\n",
       "         75.45687948,  180.78598759,  146.62093081,  156.42382465,\n",
       "         41.079036  ,  247.90645166,  207.99121432,   90.09641075,\n",
       "        222.24169638,  189.86378006,  182.2695376 ,  164.39881376,\n",
       "        190.27066587,  105.4486795 ,  199.86136394,  245.796388  ,\n",
       "        123.20281334,  119.41031908,  145.86620411,  206.19247291,\n",
       "        150.86282453,  142.23221646,  154.56874616,  115.29233396,\n",
       "        134.07810123,  118.42225404,  203.5767555 ,  170.66483797,\n",
       "        127.409797  ,   57.13507634,  231.92226503,  185.20713654,\n",
       "        187.37494558,   83.55920849,  185.42585685,  217.34035639,\n",
       "        108.86715354,   80.98714568,  127.05524123,  242.00738792,\n",
       "        155.9723414 ,  125.67575276,  246.41235643,  234.963933  ,\n",
       "        191.51298252,  168.33254477,  163.02965178])"
      ]
     },
     "execution_count": 21,
     "metadata": {},
     "output_type": "execute_result"
    }
   ],
   "source": [
    "y_predicted"
   ]
  },
  {
   "cell_type": "code",
   "execution_count": 24,
   "metadata": {
    "collapsed": false
   },
   "outputs": [],
   "source": [
    "# writing the predicted output to a file. The value will be upto 5 decimal places\n",
    "np.savetxt('Datasets/LinearRegressionOutput.csv', y_predicted, fmt='%5f')"
   ]
  },
  {
   "cell_type": "code",
   "execution_count": null,
   "metadata": {
    "collapsed": true
   },
   "outputs": [],
   "source": []
  }
 ],
 "metadata": {
  "anaconda-cloud": {},
  "kernelspec": {
   "display_name": "Python [conda root]",
   "language": "python",
   "name": "conda-root-py"
  },
  "language_info": {
   "codemirror_mode": {
    "name": "ipython",
    "version": 3
   },
   "file_extension": ".py",
   "mimetype": "text/x-python",
   "name": "python",
   "nbconvert_exporter": "python",
   "pygments_lexer": "ipython3",
   "version": "3.5.5"
  }
 },
 "nbformat": 4,
 "nbformat_minor": 1
}
