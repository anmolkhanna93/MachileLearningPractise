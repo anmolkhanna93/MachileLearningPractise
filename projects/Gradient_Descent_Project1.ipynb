{
 "cells": [
  {
   "cell_type": "markdown",
   "metadata": {},
   "source": [
    "### Dataset\n",
    "Dataset can be found under following directories:\n",
    "\n",
    "Train Data : Datasets/GD_train.csv\n",
    "Test Data : Datasets/GD_test.csv"
   ]
  },
  {
   "cell_type": "code",
   "execution_count": 2,
   "metadata": {
    "collapsed": true
   },
   "outputs": [],
   "source": [
    "import numpy as np\n",
    "import pandas as pd"
   ]
  },
  {
   "cell_type": "code",
   "execution_count": 20,
   "metadata": {
    "collapsed": true
   },
   "outputs": [],
   "source": [
    "def cost(data,Y,m):\n",
    "    Cost=0\n",
    "    M=len(data)\n",
    "    Cost=(1/M)*sum((data.dot(m)-Y.reshape(379,1))**2)\n",
    "    return Cost"
   ]
  },
  {
   "cell_type": "code",
   "execution_count": 21,
   "metadata": {
    "collapsed": true
   },
   "outputs": [],
   "source": [
    "def step_gradient(data,Y,learningRate,m):\n",
    "    M=len(data)\n",
    "    N=data.shape[1]\n",
    "    sum_=np.zeros((N,1)) \n",
    "    m=m-(-2/M)*learningRate*(data.T).dot(Y.reshape(379,1)-data.dot(m))   \n",
    "    return m"
   ]
  },
  {
   "cell_type": "code",
   "execution_count": 22,
   "metadata": {
    "collapsed": true
   },
   "outputs": [],
   "source": [
    "def gradient_descent(data,Y,learningRate,numIterations):\n",
    "    #there is no c here\n",
    "    N=data.shape[1]\n",
    "    m=np.zeros((N,1))\n",
    "    \n",
    "    for i in range(numIterations):        \n",
    "        m=step_gradient(data,Y,learningRate,m) \n",
    "    return m"
   ]
  },
  {
   "cell_type": "code",
   "execution_count": 42,
   "metadata": {
    "collapsed": false
   },
   "outputs": [],
   "source": [
    "def run():\n",
    "    data=np.loadtxt('Datasets/GD_train.csv',delimiter=',')\n",
    "    data_test=np.loadtxt('Datasets/GD_test.csv',delimiter=',')\n",
    "    X=data[:,0:13]\n",
    "    Y=data[:,13]\n",
    "    myData=np.c_[np.ones(len(X)),X ]\n",
    "    data_test=np.c_[np.ones(len(data_test)),data_test ] \n",
    "    \n",
    "    learningRate=0.00005\n",
    "    numIterations=1000000\n",
    "    m=gradient_descent(myData,Y,learningRate,numIterations)\n",
    "    print(m)\n",
    "    \n",
    "    y_pred=data_test.dot(m)\n",
    "    print(y_pred.shape)\n",
    "    np.savetxt('output.csv',y_pred,fmt='%.5f')"
   ]
  },
  {
   "cell_type": "code",
   "execution_count": 43,
   "metadata": {
    "collapsed": false
   },
   "outputs": [
    {
     "name": "stdout",
     "output_type": "stream",
     "text": [
      "[[  2.26772420e+01]\n",
      " [ -9.37948027e-01]\n",
      " [  7.40663132e-01]\n",
      " [  1.06103158e-02]\n",
      " [  7.80993314e-01]\n",
      " [ -2.17440613e+00]\n",
      " [  2.35442170e+00]\n",
      " [  1.23216743e-01]\n",
      " [ -2.95239929e+00]\n",
      " [  2.53068139e+00]\n",
      " [ -1.70022055e+00]\n",
      " [ -2.25143191e+00]\n",
      " [  5.88308426e-01]\n",
      " [ -4.26361989e+00]]\n",
      "(127, 1)\n"
     ]
    }
   ],
   "source": [
    "run()"
   ]
  },
  {
   "cell_type": "code",
   "execution_count": null,
   "metadata": {
    "collapsed": true
   },
   "outputs": [],
   "source": []
  }
 ],
 "metadata": {
  "anaconda-cloud": {},
  "kernelspec": {
   "display_name": "Python [conda root]",
   "language": "python",
   "name": "conda-root-py"
  },
  "language_info": {
   "codemirror_mode": {
    "name": "ipython",
    "version": 3
   },
   "file_extension": ".py",
   "mimetype": "text/x-python",
   "name": "python",
   "nbconvert_exporter": "python",
   "pygments_lexer": "ipython3",
   "version": "3.5.5"
  }
 },
 "nbformat": 4,
 "nbformat_minor": 1
}
