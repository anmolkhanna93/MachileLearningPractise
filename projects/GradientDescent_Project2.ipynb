{
 "cells": [
  {
   "cell_type": "code",
   "execution_count": 1,
   "metadata": {
    "collapsed": true
   },
   "outputs": [],
   "source": [
    "import numpy as np\n",
    "import pandas as pd"
   ]
  },
  {
   "cell_type": "code",
   "execution_count": 2,
   "metadata": {
    "collapsed": true
   },
   "outputs": [],
   "source": [
    "def cost(data,Y,m):\n",
    "    Cost=0\n",
    "    M=len(data)\n",
    "    for i in range(len(data)):\n",
    "        Cost+=(1/M)*((data[i].dot(m))-Y[i])**2\n",
    "    return Cost"
   ]
  },
  {
   "cell_type": "code",
   "execution_count": 3,
   "metadata": {
    "collapsed": true
   },
   "outputs": [],
   "source": [
    "def step_gradient(data,Y,learningRate,m):\n",
    "    M=len(data)\n",
    "    N=data.shape[1]\n",
    "    sum_=np.zeros((N,1)) \n",
    "    m=m-(-2/M)*learningRate*(data.T).dot(Y.reshape(7176,1)-data.dot(m))   \n",
    "    return m"
   ]
  },
  {
   "cell_type": "code",
   "execution_count": 9,
   "metadata": {
    "collapsed": true
   },
   "outputs": [],
   "source": [
    "def gradient_descent(data,Y,learningRate,numIter):\n",
    "    N=data.shape[1]\n",
    "    m=np.zeros((N,1))\n",
    "    \n",
    "    for i in range(numIter):        \n",
    "        m=step_gradient(data,Y,learningRate,m) \n",
    "    return m"
   ]
  },
  {
   "cell_type": "code",
   "execution_count": 32,
   "metadata": {
    "collapsed": true
   },
   "outputs": [],
   "source": [
    "def run():\n",
    "    #loading data\n",
    "    data=np.loadtxt('Datasets/gd_project2_train.csv',delimiter=',')\n",
    "    data_test=np.loadtxt('Datasets/gd_project2_test.csv',delimiter=',')\n",
    "    #checking the shape\n",
    "    print(data.shape)\n",
    "    print(data_test.shape)\n",
    "    # Spliting intp inputs and outputs for the algorithm\n",
    "    X=data[:,0:4]\n",
    "    Y=data[:,4]\n",
    "    myData=np.c_[np.ones(len(X)),X ]\n",
    "    data_test=np.c_[np.ones(len(data_test)),data_test ] \n",
    "        \n",
    "    \n",
    "     #adding some extra features\n",
    "    for i in range(1,X.shape[1]+1):\n",
    "        for j in range(i,X.shape[1]+1):\n",
    "            col=myData[:,i]*myData[:,j]\n",
    "            col_test=data_test[:,i]*data_test[:,j]\n",
    "\n",
    "            #print myData.shape,col.shape\n",
    "            myData=np.append(myData,col.reshape(7176,1),axis=1)\n",
    "            data_test=np.append(data_test,col_test.reshape(2392,1),axis=1)\n",
    "\n",
    "            \n",
    "    #normalize features code\n",
    "    for i in range(1,myData.shape[1]):\n",
    "        mu=myData[:,i].mean()\n",
    "        sigma=myData[:,i].std()\n",
    "        myData[:,i]=(myData[:,i]-mu)/sigma\n",
    "    #end of normalization\n",
    "    \n",
    "    #normalize features code\n",
    "    for i in range(1,data_test.shape[1]):\n",
    "        mu=data_test[:,i].mean()\n",
    "        sigma=data_test[:,i].std()\n",
    "        data_test[:,i]=(data_test[:,i]-mu)/sigma\n",
    "    #end of normalization\n",
    "\n",
    "            \n",
    "    #normalize features code\n",
    "    for i in range(1,myData.shape[1]):\n",
    "        mu=myData[:,i].mean()\n",
    "        sigma=myData[:,i].std()\n",
    "        myData[:,i]=(myData[:,i]-mu)/sigma\n",
    "    #end of normalization\n",
    "    \n",
    "    #normalize features code\n",
    "    for i in range(1,data_test.shape[1]):\n",
    "        mu=data_test[:,i].mean()\n",
    "        sigma=data_test[:,i].std()\n",
    "        data_test[:,i]=(data_test[:,i]-mu)/sigma\n",
    "    #end of normalization\n",
    "\n",
    "\n",
    "    learningRate=0.00003\n",
    "    numIterations=100000\n",
    "    m=gradient_descent(myData,Y,learningRate,numIterations)\n",
    "    print(m)\n",
    "    \n",
    "    y_predicted=data_test.dot(m)\n",
    "    print(y_predicted.shape)\n",
    "    np.savetxt('output_GasPower.csv',y_predicted,fmt='%.5f')"
   ]
  },
  {
   "cell_type": "code",
   "execution_count": 33,
   "metadata": {
    "collapsed": false
   },
   "outputs": [
    {
     "name": "stdout",
     "output_type": "stream",
     "text": [
      "(7176, 5)\n",
      "(2392, 4)\n",
      "[[  4.53305073e+02]\n",
      " [ -3.48742109e+00]\n",
      " [ -7.78950929e-01]\n",
      " [  2.63765185e-01]\n",
      " [  4.53757840e-01]\n",
      " [ -1.68600312e+00]\n",
      " [ -1.37689683e+00]\n",
      " [ -3.51781137e+00]\n",
      " [ -4.31659331e+00]\n",
      " [ -2.05090449e-01]\n",
      " [ -7.91786177e-01]\n",
      " [ -8.48897412e-01]\n",
      " [  2.59685694e-01]\n",
      " [  4.57097239e-01]\n",
      " [  2.79964362e-01]]\n",
      "(2392, 1)\n"
     ]
    }
   ],
   "source": [
    "run()"
   ]
  },
  {
   "cell_type": "code",
   "execution_count": null,
   "metadata": {
    "collapsed": true
   },
   "outputs": [],
   "source": []
  }
 ],
 "metadata": {
  "anaconda-cloud": {},
  "kernelspec": {
   "display_name": "Python [default]",
   "language": "python",
   "name": "python3"
  },
  "language_info": {
   "codemirror_mode": {
    "name": "ipython",
    "version": 3
   },
   "file_extension": ".py",
   "mimetype": "text/x-python",
   "name": "python",
   "nbconvert_exporter": "python",
   "pygments_lexer": "ipython3",
   "version": "3.5.5"
  }
 },
 "nbformat": 4,
 "nbformat_minor": 1
}
